{
 "cells": [
  {
   "cell_type": "code",
   "execution_count": 2,
   "id": "initial_id",
   "metadata": {
    "collapsed": true,
    "ExecuteTime": {
     "end_time": "2025-02-03T01:09:37.109200Z",
     "start_time": "2025-02-03T01:09:36.284691Z"
    }
   },
   "outputs": [],
   "source": [
    "import numpy as np\n",
    "import torch\n",
    "\n",
    "from mik_tools.kinematic_tools import exponential_map, log_map, skew_matrix_to_vector, vector_to_skew_matrix"
   ]
  },
  {
   "cell_type": "code",
   "execution_count": 13,
   "outputs": [
    {
     "data": {
      "text/plain": "array([[ 0.        , -0.78539816,  0.        ],\n       [ 0.78539816,  0.        , -0.        ],\n       [-0.        ,  0.        ,  0.        ]])"
     },
     "execution_count": 13,
     "metadata": {},
     "output_type": "execute_result"
    }
   ],
   "source": [
    "omega = np.array([0., 0., np.pi*0.25])\n",
    "omega_skew = vector_to_skew_matrix(omega)\n",
    "omega_skew"
   ],
   "metadata": {
    "collapsed": false,
    "ExecuteTime": {
     "end_time": "2025-02-03T01:11:41.267646Z",
     "start_time": "2025-02-03T01:11:41.263693Z"
    }
   },
   "id": "c37d8a5cce9b7914"
  },
  {
   "cell_type": "code",
   "execution_count": 12,
   "outputs": [
    {
     "data": {
      "text/plain": "array([[ 0.70710678, -0.70710678,  0.        ],\n       [ 0.70710678,  0.70710678,  0.        ],\n       [ 0.        ,  0.        ,  1.        ]])"
     },
     "execution_count": 12,
     "metadata": {},
     "output_type": "execute_result"
    }
   ],
   "source": [
    "R = exponential_map(omega_skew)\n",
    "R"
   ],
   "metadata": {
    "collapsed": false,
    "ExecuteTime": {
     "end_time": "2025-02-03T01:11:34.314152Z",
     "start_time": "2025-02-03T01:11:34.308711Z"
    }
   },
   "id": "559054270bbb6ba1"
  },
  {
   "cell_type": "code",
   "execution_count": 14,
   "outputs": [],
   "source": [
    "R_t = torch.tensor(R)"
   ],
   "metadata": {
    "collapsed": false,
    "ExecuteTime": {
     "end_time": "2025-02-03T01:11:51.498663Z",
     "start_time": "2025-02-03T01:11:51.496195Z"
    }
   },
   "id": "e538b68f131be84d"
  },
  {
   "cell_type": "code",
   "execution_count": 15,
   "outputs": [
    {
     "data": {
      "text/plain": "array([[-2.84558859e-16, -7.85398163e-01,  0.00000000e+00],\n       [ 7.85398163e-01, -4.85080479e-17,  0.00000000e+00],\n       [ 0.00000000e+00,  0.00000000e+00,  0.00000000e+00]])"
     },
     "execution_count": 15,
     "metadata": {},
     "output_type": "execute_result"
    }
   ],
   "source": [
    "omega_skew_r = log_map(R)\n",
    "omega_skew_r"
   ],
   "metadata": {
    "collapsed": false,
    "ExecuteTime": {
     "end_time": "2025-02-03T01:11:51.903327Z",
     "start_time": "2025-02-03T01:11:51.897202Z"
    }
   },
   "id": "3f76d5540b3dd617"
  },
  {
   "cell_type": "code",
   "execution_count": 16,
   "outputs": [
    {
     "data": {
      "text/plain": "tensor([[ 0.0000, -0.7854,  0.0000],\n        [ 0.7854,  0.0000,  0.0000],\n        [ 0.0000,  0.0000,  0.0000]], dtype=torch.float64)"
     },
     "execution_count": 16,
     "metadata": {},
     "output_type": "execute_result"
    }
   ],
   "source": [
    "log_map(R_t)"
   ],
   "metadata": {
    "collapsed": false,
    "ExecuteTime": {
     "end_time": "2025-02-03T01:11:53.087619Z",
     "start_time": "2025-02-03T01:11:53.084115Z"
    }
   },
   "id": "678b8ff2de9f4f32"
  },
  {
   "cell_type": "code",
   "execution_count": null,
   "outputs": [],
   "source": [],
   "metadata": {
    "collapsed": false
   },
   "id": "687c3fa059484273"
  }
 ],
 "metadata": {
  "kernelspec": {
   "display_name": "Python 3",
   "language": "python",
   "name": "python3"
  },
  "language_info": {
   "codemirror_mode": {
    "name": "ipython",
    "version": 2
   },
   "file_extension": ".py",
   "mimetype": "text/x-python",
   "name": "python",
   "nbconvert_exporter": "python",
   "pygments_lexer": "ipython2",
   "version": "2.7.6"
  }
 },
 "nbformat": 4,
 "nbformat_minor": 5
}
